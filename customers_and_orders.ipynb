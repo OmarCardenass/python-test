{
  "cells": [
    {
      "cell_type": "markdown",
      "metadata": {
        "id": "view-in-github",
        "colab_type": "text"
      },
      "source": [
        "<a href=\"https://colab.research.google.com/github/humanufo-hash/python-test/blob/main/customers_and_orders.ipynb\" target=\"_parent\"><img src=\"https://colab.research.google.com/assets/colab-badge.svg\" alt=\"Open In Colab\"/></a>"
      ]
    },
    {
      "cell_type": "markdown",
      "metadata": {
        "id": "piiX_CRNFYUi"
      },
      "source": [
        "# Technical Challenge ! Custiomers and Orders - The lifeblood of any business!\n",
        "\n",
        "This notebook depends on two data files: customers.scv and orders.csv. These files are hosted in the cloud (or Github), so for simplicity, we are providing you with the code to download and save the two files in a folder called 'sample_data' which lives within this notebook session (not on your local computer nor Google Drive).\n",
        "\n",
        "![sample_data folder in notebook session](https://raw.githubusercontent.com/anyoneai/notebooks/main/customers_and_orders/images/sample_data_folder.png)\n",
        "\n",
        "Please execute the first code snippet before moving to the rest of the exercise as this code will import the data from the files for you to be able to execute the rest of the exercise.\n",
        "\n",
        "Remember as we said in the previous lecture, you have to save this notebook into your Google Drive by going to menu File/Save a Copy In Drive, or clicking in the button \"Copy to Drive\". This way, you will not lose any work you've done and the file will persist with your latest changes in your Google Drive. Also we recommend you to rename your .ipynb in your Google Drive, so you can easily find it in the future."
      ]
    },
    {
      "cell_type": "code",
      "execution_count": 9,
      "metadata": {
        "colab": {
          "base_uri": "https://localhost:8080/"
        },
        "id": "MWpVO242FQHC",
        "outputId": "20fb61d6-c0ba-4f59-eb21-c85f23c4c047"
      },
      "outputs": [
        {
          "output_type": "stream",
          "name": "stdout",
          "text": [
            "Customers and orders CSV files have been added './sample_data'\n"
          ]
        }
      ],
      "source": [
        "import requests\n",
        "\n",
        "def import_data_files():\n",
        "  r = requests.get('https://raw.githubusercontent.com/anyoneai/notebooks/main/customers_and_orders/data/customers.csv')\n",
        "  with open('./sample_data/customers.csv', 'wb') as f:\n",
        "    f.write(r.content)\n",
        "\n",
        "  r = requests.get('https://raw.githubusercontent.com/anyoneai/notebooks/main/customers_and_orders/data/orders.csv')\n",
        "  with open('./sample_data/orders.csv', 'wb') as f:\n",
        "    f.write(r.content)\n",
        "  \n",
        "import_data_files()\n",
        "print(\"Customers and orders CSV files have been added './sample_data'\")"
      ]
    },
    {
      "cell_type": "markdown",
      "metadata": {
        "id": "JQAduY-RWKyB"
      },
      "source": [
        "# Exercise 1: Processing Customers data (difficulty medium)\n",
        "\n",
        "The sample customer data in 'customers.csv' file has just 5 columns: CustomerId, First Name, Last Name, City and State\n",
        "\n",
        "![Data sample](https://raw.githubusercontent.com/anyoneai/notebooks/main/customers_and_orders/images/customers.png)\n",
        "\n",
        "We strongly recommend that you complete from the [Prep Course: Intro to Python](https://colab.research.google.com/github/anyoneai/notebooks/blob/main/python3_crash_course.ipynb) the following section:\n",
        "- Section 7: File I/O (to understand how to read CSV file) \n",
        "- Section 6: For Loop (to navigate the contents of the CSV file)\n",
        "- Section 5: Tuples, Lists, and Dictionaries (to manipulate the data of the CSV file)\n",
        "\n",
        "With this, we hope you can complete this exercise successfully. Although if you want to solve this with libraries or any other way, you are welcome to do it your way.\n",
        "\n",
        "*Hint:* We advise you to take a look at the data before you start.\n",
        "**if you want to manually take a look at the data before you start, please see the content of the data [here](https://github.com/anyoneai/notebooks/blob/main/customers_and_orders/data/customers.csv).\n",
        "\n",
        "*Hint*: There are many ways to do this exercise you can do your own, although here's some help. You can solve this exercise reading and parsing CSV files, structuring data into dictionaries, and using for loops to navigate the contents\n",
        "\n",
        "*Hint*: Also, keep in mind that data might not be clean and you might have to figure out how to deal with that data from the code, without having to modify the data source.\n",
        "\n",
        "Below are the 5 questions you'll have to answer to pass the evaluation:"
      ]
    },
    {
      "cell_type": "markdown",
      "metadata": {
        "id": "kJq7S8sBfbOW"
      },
      "source": [
        "**Question 1:** How many customers are in the file?\n",
        "(as help, we have added some comments and starter code to help you structure the solution)"
      ]
    },
    {
      "cell_type": "code",
      "execution_count": 10,
      "metadata": {
        "colab": {
          "base_uri": "https://localhost:8080/"
        },
        "id": "oMnUFBFb2RUb",
        "outputId": "b270a52f-b339-431f-efd3-2b6d2c9675d4"
      },
      "outputs": [
        {
          "output_type": "stream",
          "name": "stdout",
          "text": [
            "603\n",
            "All done!\n"
          ]
        }
      ],
      "source": [
        "from os.path import exists\n",
        "import csv\n",
        "\n",
        "# check if file can be found and open the file\n",
        "datafile = \"./sample_data/customers.csv\"\n",
        "if not exists(datafile):\n",
        "  raise SystemExit(\"You should run the first code cell and download the dataset files!\")\n",
        "\n",
        "# customers file is in the sample_data folder and can be opened.\n",
        "# Using csv reader is one way of dealing with the file \n",
        "# but it's up to you how you want to proceed\n",
        "with open(datafile, 'r') as fl:\n",
        "  csvreader = csv.reader(fl, delimiter=',')\n",
        "\n",
        "  # loop through the rows and count etc. THE REST IS UP TO YOU!\n",
        "  row_count = sum(1 for row in csvreader)\n",
        "  print(row_count)\n",
        "print(\"All done!\")"
      ]
    },
    {
      "cell_type": "markdown",
      "metadata": {
        "id": "uffBnNgz_570"
      },
      "source": [
        "**Question 2:** In how many different states do the customers live in?"
      ]
    },
    {
      "cell_type": "code",
      "execution_count": null,
      "metadata": {
        "id": "Bi_yid0sMe3-"
      },
      "outputs": [],
      "source": [
        "import numpy as np\n",
        "import pandas as pd\n",
        "# open file and init vars\n",
        "# evaluate the contents of the file\n",
        "df = pd.read_csv(datafile)"
      ]
    },
    {
      "cell_type": "code",
      "source": [
        "df"
      ],
      "metadata": {
        "colab": {
          "base_uri": "https://localhost:8080/",
          "height": 423
        },
        "id": "_DI-mFQXnxtd",
        "outputId": "66649a3c-ee76-4b20-c18b-459759050845"
      },
      "execution_count": null,
      "outputs": [
        {
          "output_type": "execute_result",
          "data": {
            "text/plain": [
              "     CustomerID    FirstName      LastName         City State\n",
              "0          6192        Randi    Piedrahita  Canoga Park    CA\n",
              "1       5100595  Christopher       Abraham   Loma Linda    CA\n",
              "2       1902451        Elvis      Jauregui  Los Angeles    CA\n",
              "3       1906377         Jose  Mota-Sanchez       Downey    CA\n",
              "4       1902406      Scott        McCrorie   Long Beach    CA\n",
              "..          ...          ...           ...          ...   ...\n",
              "597     5415365      Trinity     Hall Reif        Poway    CA\n",
              "598     5415465       Kisona   Mialoto Jr.      Lynwood    CA\n",
              "599     5415345     Lawrence         Zhang  Temple City    CA\n",
              "600     5415481         John        Hughes    Round Top    TX\n",
              "601     5415482      Phillip        Okonma  Los Angeles    CA\n",
              "\n",
              "[602 rows x 5 columns]"
            ],
            "text/html": [
              "\n",
              "  <div id=\"df-27f55918-b682-44e7-896a-0d723bdca205\">\n",
              "    <div class=\"colab-df-container\">\n",
              "      <div>\n",
              "<style scoped>\n",
              "    .dataframe tbody tr th:only-of-type {\n",
              "        vertical-align: middle;\n",
              "    }\n",
              "\n",
              "    .dataframe tbody tr th {\n",
              "        vertical-align: top;\n",
              "    }\n",
              "\n",
              "    .dataframe thead th {\n",
              "        text-align: right;\n",
              "    }\n",
              "</style>\n",
              "<table border=\"1\" class=\"dataframe\">\n",
              "  <thead>\n",
              "    <tr style=\"text-align: right;\">\n",
              "      <th></th>\n",
              "      <th>CustomerID</th>\n",
              "      <th>FirstName</th>\n",
              "      <th>LastName</th>\n",
              "      <th>City</th>\n",
              "      <th>State</th>\n",
              "    </tr>\n",
              "  </thead>\n",
              "  <tbody>\n",
              "    <tr>\n",
              "      <th>0</th>\n",
              "      <td>6192</td>\n",
              "      <td>Randi</td>\n",
              "      <td>Piedrahita</td>\n",
              "      <td>Canoga Park</td>\n",
              "      <td>CA</td>\n",
              "    </tr>\n",
              "    <tr>\n",
              "      <th>1</th>\n",
              "      <td>5100595</td>\n",
              "      <td>Christopher</td>\n",
              "      <td>Abraham</td>\n",
              "      <td>Loma Linda</td>\n",
              "      <td>CA</td>\n",
              "    </tr>\n",
              "    <tr>\n",
              "      <th>2</th>\n",
              "      <td>1902451</td>\n",
              "      <td>Elvis</td>\n",
              "      <td>Jauregui</td>\n",
              "      <td>Los Angeles</td>\n",
              "      <td>CA</td>\n",
              "    </tr>\n",
              "    <tr>\n",
              "      <th>3</th>\n",
              "      <td>1906377</td>\n",
              "      <td>Jose</td>\n",
              "      <td>Mota-Sanchez</td>\n",
              "      <td>Downey</td>\n",
              "      <td>CA</td>\n",
              "    </tr>\n",
              "    <tr>\n",
              "      <th>4</th>\n",
              "      <td>1902406</td>\n",
              "      <td>Scott</td>\n",
              "      <td>McCrorie</td>\n",
              "      <td>Long Beach</td>\n",
              "      <td>CA</td>\n",
              "    </tr>\n",
              "    <tr>\n",
              "      <th>...</th>\n",
              "      <td>...</td>\n",
              "      <td>...</td>\n",
              "      <td>...</td>\n",
              "      <td>...</td>\n",
              "      <td>...</td>\n",
              "    </tr>\n",
              "    <tr>\n",
              "      <th>597</th>\n",
              "      <td>5415365</td>\n",
              "      <td>Trinity</td>\n",
              "      <td>Hall Reif</td>\n",
              "      <td>Poway</td>\n",
              "      <td>CA</td>\n",
              "    </tr>\n",
              "    <tr>\n",
              "      <th>598</th>\n",
              "      <td>5415465</td>\n",
              "      <td>Kisona</td>\n",
              "      <td>Mialoto Jr.</td>\n",
              "      <td>Lynwood</td>\n",
              "      <td>CA</td>\n",
              "    </tr>\n",
              "    <tr>\n",
              "      <th>599</th>\n",
              "      <td>5415345</td>\n",
              "      <td>Lawrence</td>\n",
              "      <td>Zhang</td>\n",
              "      <td>Temple City</td>\n",
              "      <td>CA</td>\n",
              "    </tr>\n",
              "    <tr>\n",
              "      <th>600</th>\n",
              "      <td>5415481</td>\n",
              "      <td>John</td>\n",
              "      <td>Hughes</td>\n",
              "      <td>Round Top</td>\n",
              "      <td>TX</td>\n",
              "    </tr>\n",
              "    <tr>\n",
              "      <th>601</th>\n",
              "      <td>5415482</td>\n",
              "      <td>Phillip</td>\n",
              "      <td>Okonma</td>\n",
              "      <td>Los Angeles</td>\n",
              "      <td>CA</td>\n",
              "    </tr>\n",
              "  </tbody>\n",
              "</table>\n",
              "<p>602 rows × 5 columns</p>\n",
              "</div>\n",
              "      <button class=\"colab-df-convert\" onclick=\"convertToInteractive('df-27f55918-b682-44e7-896a-0d723bdca205')\"\n",
              "              title=\"Convert this dataframe to an interactive table.\"\n",
              "              style=\"display:none;\">\n",
              "        \n",
              "  <svg xmlns=\"http://www.w3.org/2000/svg\" height=\"24px\"viewBox=\"0 0 24 24\"\n",
              "       width=\"24px\">\n",
              "    <path d=\"M0 0h24v24H0V0z\" fill=\"none\"/>\n",
              "    <path d=\"M18.56 5.44l.94 2.06.94-2.06 2.06-.94-2.06-.94-.94-2.06-.94 2.06-2.06.94zm-11 1L8.5 8.5l.94-2.06 2.06-.94-2.06-.94L8.5 2.5l-.94 2.06-2.06.94zm10 10l.94 2.06.94-2.06 2.06-.94-2.06-.94-.94-2.06-.94 2.06-2.06.94z\"/><path d=\"M17.41 7.96l-1.37-1.37c-.4-.4-.92-.59-1.43-.59-.52 0-1.04.2-1.43.59L10.3 9.45l-7.72 7.72c-.78.78-.78 2.05 0 2.83L4 21.41c.39.39.9.59 1.41.59.51 0 1.02-.2 1.41-.59l7.78-7.78 2.81-2.81c.8-.78.8-2.07 0-2.86zM5.41 20L4 18.59l7.72-7.72 1.47 1.35L5.41 20z\"/>\n",
              "  </svg>\n",
              "      </button>\n",
              "      \n",
              "  <style>\n",
              "    .colab-df-container {\n",
              "      display:flex;\n",
              "      flex-wrap:wrap;\n",
              "      gap: 12px;\n",
              "    }\n",
              "\n",
              "    .colab-df-convert {\n",
              "      background-color: #E8F0FE;\n",
              "      border: none;\n",
              "      border-radius: 50%;\n",
              "      cursor: pointer;\n",
              "      display: none;\n",
              "      fill: #1967D2;\n",
              "      height: 32px;\n",
              "      padding: 0 0 0 0;\n",
              "      width: 32px;\n",
              "    }\n",
              "\n",
              "    .colab-df-convert:hover {\n",
              "      background-color: #E2EBFA;\n",
              "      box-shadow: 0px 1px 2px rgba(60, 64, 67, 0.3), 0px 1px 3px 1px rgba(60, 64, 67, 0.15);\n",
              "      fill: #174EA6;\n",
              "    }\n",
              "\n",
              "    [theme=dark] .colab-df-convert {\n",
              "      background-color: #3B4455;\n",
              "      fill: #D2E3FC;\n",
              "    }\n",
              "\n",
              "    [theme=dark] .colab-df-convert:hover {\n",
              "      background-color: #434B5C;\n",
              "      box-shadow: 0px 1px 3px 1px rgba(0, 0, 0, 0.15);\n",
              "      filter: drop-shadow(0px 1px 2px rgba(0, 0, 0, 0.3));\n",
              "      fill: #FFFFFF;\n",
              "    }\n",
              "  </style>\n",
              "\n",
              "      <script>\n",
              "        const buttonEl =\n",
              "          document.querySelector('#df-27f55918-b682-44e7-896a-0d723bdca205 button.colab-df-convert');\n",
              "        buttonEl.style.display =\n",
              "          google.colab.kernel.accessAllowed ? 'block' : 'none';\n",
              "\n",
              "        async function convertToInteractive(key) {\n",
              "          const element = document.querySelector('#df-27f55918-b682-44e7-896a-0d723bdca205');\n",
              "          const dataTable =\n",
              "            await google.colab.kernel.invokeFunction('convertToInteractive',\n",
              "                                                     [key], {});\n",
              "          if (!dataTable) return;\n",
              "\n",
              "          const docLinkHtml = 'Like what you see? Visit the ' +\n",
              "            '<a target=\"_blank\" href=https://colab.research.google.com/notebooks/data_table.ipynb>data table notebook</a>'\n",
              "            + ' to learn more about interactive tables.';\n",
              "          element.innerHTML = '';\n",
              "          dataTable['output_type'] = 'display_data';\n",
              "          await google.colab.output.renderOutput(dataTable, element);\n",
              "          const docLink = document.createElement('div');\n",
              "          docLink.innerHTML = docLinkHtml;\n",
              "          element.appendChild(docLink);\n",
              "        }\n",
              "      </script>\n",
              "    </div>\n",
              "  </div>\n",
              "  "
            ]
          },
          "metadata": {},
          "execution_count": 382
        }
      ]
    },
    {
      "cell_type": "markdown",
      "source": [
        "[❌hacemos un drop duplicates para buscar posibles errores:](https://)\n"
      ],
      "metadata": {
        "id": "UqvggTt3787V"
      }
    },
    {
      "cell_type": "code",
      "source": [
        "df['State'].drop_duplicates()"
      ],
      "metadata": {
        "colab": {
          "base_uri": "https://localhost:8080/"
        },
        "id": "WMUSYuby0KUw",
        "outputId": "d935770f-b019-43a4-9568-52365a145166"
      },
      "execution_count": null,
      "outputs": [
        {
          "output_type": "execute_result",
          "data": {
            "text/plain": [
              "0                 CA\n",
              "23                AZ\n",
              "65                NV\n",
              "76                FL\n",
              "95     CA           \n",
              "99                WA\n",
              "108               NH\n",
              "129               ID\n",
              "164               CO\n",
              "203               Ca\n",
              "207               TX\n",
              "242               NM\n",
              "350               OR\n",
              "499               UT\n",
              "565               MA\n",
              "578               IN\n",
              "Name: State, dtype: object"
            ]
          },
          "metadata": {},
          "execution_count": 383
        }
      ]
    },
    {
      "cell_type": "markdown",
      "source": [
        "Vemos un problema con el 95 y 203"
      ],
      "metadata": {
        "id": "2Fq0IzBd8YeL"
      }
    },
    {
      "cell_type": "code",
      "source": [
        "type(df.iloc[95]['State'])\n",
        "\n"
      ],
      "metadata": {
        "id": "zvAgauOipOzv"
      },
      "execution_count": null,
      "outputs": []
    },
    {
      "cell_type": "code",
      "source": [
        "len(df.iloc[95]['State'])"
      ],
      "metadata": {
        "colab": {
          "base_uri": "https://localhost:8080/"
        },
        "id": "B3tlIld20Eg8",
        "outputId": "5e032b55-1058-4070-85db-42c0984ca006"
      },
      "execution_count": null,
      "outputs": [
        {
          "output_type": "execute_result",
          "data": {
            "text/plain": [
              "13"
            ]
          },
          "metadata": {},
          "execution_count": 385
        }
      ]
    },
    {
      "cell_type": "markdown",
      "source": [
        "[A simple vista es un problema de minisculas y espacios en blanco](https://)"
      ],
      "metadata": {
        "id": "w6Y3z-g_8r7w"
      }
    },
    {
      "cell_type": "code",
      "source": [
        "dfaux=df[:][\"State\"].str.upper()"
      ],
      "metadata": {
        "id": "XJKqHATC5vgd"
      },
      "execution_count": null,
      "outputs": []
    },
    {
      "cell_type": "code",
      "source": [
        "dfaux"
      ],
      "metadata": {
        "colab": {
          "base_uri": "https://localhost:8080/"
        },
        "id": "406Z2qBEAFUe",
        "outputId": "b3d33802-56a3-40b3-e391-fe645b763f23"
      },
      "execution_count": null,
      "outputs": [
        {
          "output_type": "execute_result",
          "data": {
            "text/plain": [
              "0      CA\n",
              "1      CA\n",
              "2      CA\n",
              "3      CA\n",
              "4      CA\n",
              "       ..\n",
              "597    CA\n",
              "598    CA\n",
              "599    CA\n",
              "600    TX\n",
              "601    CA\n",
              "Name: State, Length: 602, dtype: object"
            ]
          },
          "metadata": {},
          "execution_count": 453
        }
      ]
    },
    {
      "cell_type": "code",
      "source": [
        "for index, value in dfaux.items():\n",
        "  dfaux.iloc[index]=dfaux.iloc[index].strip()      "
      ],
      "metadata": {
        "id": "WVXV8YVpxaxh"
      },
      "execution_count": null,
      "outputs": []
    },
    {
      "cell_type": "code",
      "source": [
        "from collections import defaultdict"
      ],
      "metadata": {
        "id": "T9-NXmQNEVas"
      },
      "execution_count": null,
      "outputs": []
    },
    {
      "cell_type": "code",
      "source": [
        "type(dfaux)"
      ],
      "metadata": {
        "colab": {
          "base_uri": "https://localhost:8080/"
        },
        "id": "F8iAoaGBNP6z",
        "outputId": "d362770e-3272-41d5-95f1-888b626969da"
      },
      "execution_count": null,
      "outputs": [
        {
          "output_type": "execute_result",
          "data": {
            "text/plain": [
              "pandas.core.series.Series"
            ]
          },
          "metadata": {},
          "execution_count": 456
        }
      ]
    },
    {
      "cell_type": "code",
      "source": [
        "dfaux"
      ],
      "metadata": {
        "colab": {
          "base_uri": "https://localhost:8080/"
        },
        "id": "Ok2fAQ0tONDf",
        "outputId": "60dcb385-1813-4f18-ead4-8354337b2734"
      },
      "execution_count": null,
      "outputs": [
        {
          "output_type": "execute_result",
          "data": {
            "text/plain": [
              "0      CA\n",
              "1      CA\n",
              "2      CA\n",
              "3      CA\n",
              "4      CA\n",
              "       ..\n",
              "597    CA\n",
              "598    CA\n",
              "599    CA\n",
              "600    TX\n",
              "601    CA\n",
              "Name: State, Length: 602, dtype: object"
            ]
          },
          "metadata": {},
          "execution_count": 457
        }
      ]
    },
    {
      "cell_type": "code",
      "source": [
        "lista=dfaux"
      ],
      "metadata": {
        "id": "WgCPcTjdHBYJ"
      },
      "execution_count": null,
      "outputs": []
    },
    {
      "cell_type": "markdown",
      "source": [
        "[Transformamos la serie en diccionario para poder iterar sobre un Dataframe y agrupar con pandas.](https:// [texto del enlace](https://))"
      ],
      "metadata": {
        "id": "uXrwTpCdQUqV"
      }
    },
    {
      "cell_type": "code",
      "source": [
        "lista=lista.to_dict()"
      ],
      "metadata": {
        "id": "4FKkAK-DHUWv"
      },
      "execution_count": null,
      "outputs": []
    },
    {
      "cell_type": "code",
      "source": [
        "lista"
      ],
      "metadata": {
        "colab": {
          "base_uri": "https://localhost:8080/"
        },
        "id": "ORIfBECXO6bi",
        "outputId": "f0b8292d-7ef6-457b-d808-6c84d09bd3d0"
      },
      "execution_count": null,
      "outputs": [
        {
          "output_type": "execute_result",
          "data": {
            "text/plain": [
              "{0: 'CA',\n",
              " 1: 'CA',\n",
              " 2: 'CA',\n",
              " 3: 'CA',\n",
              " 4: 'CA',\n",
              " 5: 'CA',\n",
              " 6: 'CA',\n",
              " 7: 'CA',\n",
              " 8: 'CA',\n",
              " 9: 'CA',\n",
              " 10: 'CA',\n",
              " 11: 'CA',\n",
              " 12: 'CA',\n",
              " 13: 'CA',\n",
              " 14: 'CA',\n",
              " 15: 'CA',\n",
              " 16: 'CA',\n",
              " 17: 'CA',\n",
              " 18: 'CA',\n",
              " 19: 'CA',\n",
              " 20: 'CA',\n",
              " 21: 'CA',\n",
              " 22: 'CA',\n",
              " 23: 'AZ',\n",
              " 24: 'CA',\n",
              " 25: 'CA',\n",
              " 26: 'CA',\n",
              " 27: 'CA',\n",
              " 28: 'CA',\n",
              " 29: 'CA',\n",
              " 30: 'CA',\n",
              " 31: 'CA',\n",
              " 32: 'CA',\n",
              " 33: 'CA',\n",
              " 34: 'CA',\n",
              " 35: 'CA',\n",
              " 36: 'CA',\n",
              " 37: 'CA',\n",
              " 38: 'CA',\n",
              " 39: 'CA',\n",
              " 40: 'CA',\n",
              " 41: 'CA',\n",
              " 42: 'CA',\n",
              " 43: 'CA',\n",
              " 44: 'CA',\n",
              " 45: 'CA',\n",
              " 46: 'CA',\n",
              " 47: 'CA',\n",
              " 48: 'CA',\n",
              " 49: 'CA',\n",
              " 50: 'CA',\n",
              " 51: 'CA',\n",
              " 52: 'CA',\n",
              " 53: 'CA',\n",
              " 54: 'CA',\n",
              " 55: 'CA',\n",
              " 56: 'CA',\n",
              " 57: 'CA',\n",
              " 58: 'CA',\n",
              " 59: 'CA',\n",
              " 60: 'CA',\n",
              " 61: 'CA',\n",
              " 62: 'CA',\n",
              " 63: 'CA',\n",
              " 64: 'CA',\n",
              " 65: 'NV',\n",
              " 66: 'CA',\n",
              " 67: 'CA',\n",
              " 68: 'CA',\n",
              " 69: 'CA',\n",
              " 70: 'CA',\n",
              " 71: 'CA',\n",
              " 72: 'CA',\n",
              " 73: 'CA',\n",
              " 74: 'CA',\n",
              " 75: 'CA',\n",
              " 76: 'FL',\n",
              " 77: 'CA',\n",
              " 78: 'CA',\n",
              " 79: 'CA',\n",
              " 80: 'CA',\n",
              " 81: 'NV',\n",
              " 82: 'CA',\n",
              " 83: 'CA',\n",
              " 84: 'CA',\n",
              " 85: 'CA',\n",
              " 86: 'CA',\n",
              " 87: 'CA',\n",
              " 88: 'CA',\n",
              " 89: 'CA',\n",
              " 90: 'CA',\n",
              " 91: 'CA',\n",
              " 92: 'CA',\n",
              " 93: 'CA',\n",
              " 94: 'CA',\n",
              " 95: 'CA',\n",
              " 96: 'CA',\n",
              " 97: 'CA',\n",
              " 98: 'CA',\n",
              " 99: 'WA',\n",
              " 100: 'CA',\n",
              " 101: 'CA',\n",
              " 102: 'CA',\n",
              " 103: 'CA',\n",
              " 104: 'CA',\n",
              " 105: 'CA',\n",
              " 106: 'CA',\n",
              " 107: 'CA',\n",
              " 108: 'NH',\n",
              " 109: 'CA',\n",
              " 110: 'CA',\n",
              " 111: 'CA',\n",
              " 112: 'CA',\n",
              " 113: 'CA',\n",
              " 114: 'CA',\n",
              " 115: 'CA',\n",
              " 116: 'CA',\n",
              " 117: 'CA',\n",
              " 118: 'CA',\n",
              " 119: 'CA',\n",
              " 120: 'CA',\n",
              " 121: 'CA',\n",
              " 122: 'CA',\n",
              " 123: 'CA',\n",
              " 124: 'CA',\n",
              " 125: 'CA',\n",
              " 126: 'CA',\n",
              " 127: 'CA',\n",
              " 128: 'CA',\n",
              " 129: 'ID',\n",
              " 130: 'CA',\n",
              " 131: 'CA',\n",
              " 132: 'CA',\n",
              " 133: 'CA',\n",
              " 134: 'CA',\n",
              " 135: 'CA',\n",
              " 136: 'CA',\n",
              " 137: 'CA',\n",
              " 138: 'CA',\n",
              " 139: 'CA',\n",
              " 140: 'CA',\n",
              " 141: 'CA',\n",
              " 142: 'CA',\n",
              " 143: 'CA',\n",
              " 144: 'CA',\n",
              " 145: 'CA',\n",
              " 146: 'CA',\n",
              " 147: 'CA',\n",
              " 148: 'CA',\n",
              " 149: 'CA',\n",
              " 150: 'CA',\n",
              " 151: 'CA',\n",
              " 152: 'CA',\n",
              " 153: 'CA',\n",
              " 154: 'CA',\n",
              " 155: 'CA',\n",
              " 156: 'CA',\n",
              " 157: 'CA',\n",
              " 158: 'CA',\n",
              " 159: 'CA',\n",
              " 160: 'CA',\n",
              " 161: 'CA',\n",
              " 162: 'CA',\n",
              " 163: 'CA',\n",
              " 164: 'CO',\n",
              " 165: 'CA',\n",
              " 166: 'CA',\n",
              " 167: 'CA',\n",
              " 168: 'CA',\n",
              " 169: 'CA',\n",
              " 170: 'CA',\n",
              " 171: 'CA',\n",
              " 172: 'CA',\n",
              " 173: 'CA',\n",
              " 174: 'CA',\n",
              " 175: 'CA',\n",
              " 176: 'CA',\n",
              " 177: 'CA',\n",
              " 178: 'CA',\n",
              " 179: 'CA',\n",
              " 180: 'AZ',\n",
              " 181: 'CA',\n",
              " 182: 'CA',\n",
              " 183: 'CA',\n",
              " 184: 'CA',\n",
              " 185: 'CA',\n",
              " 186: 'CA',\n",
              " 187: 'CA',\n",
              " 188: 'CA',\n",
              " 189: 'CA',\n",
              " 190: 'CA',\n",
              " 191: 'CA',\n",
              " 192: 'CA',\n",
              " 193: 'CA',\n",
              " 194: 'CA',\n",
              " 195: 'CA',\n",
              " 196: 'CA',\n",
              " 197: 'CA',\n",
              " 198: 'CA',\n",
              " 199: 'CA',\n",
              " 200: 'CA',\n",
              " 201: 'CA',\n",
              " 202: 'CA',\n",
              " 203: 'CA',\n",
              " 204: 'CA',\n",
              " 205: 'CA',\n",
              " 206: 'CA',\n",
              " 207: 'TX',\n",
              " 208: 'CA',\n",
              " 209: 'CA',\n",
              " 210: 'CA',\n",
              " 211: 'CA',\n",
              " 212: 'CA',\n",
              " 213: 'CA',\n",
              " 214: 'CA',\n",
              " 215: 'CA',\n",
              " 216: 'CA',\n",
              " 217: 'NV',\n",
              " 218: 'CA',\n",
              " 219: 'CA',\n",
              " 220: 'CA',\n",
              " 221: 'CA',\n",
              " 222: 'CA',\n",
              " 223: 'CA',\n",
              " 224: 'CA',\n",
              " 225: 'CA',\n",
              " 226: 'CA',\n",
              " 227: 'CA',\n",
              " 228: 'CA',\n",
              " 229: 'CA',\n",
              " 230: 'CA',\n",
              " 231: 'CA',\n",
              " 232: 'CA',\n",
              " 233: 'CA',\n",
              " 234: 'CA',\n",
              " 235: 'CA',\n",
              " 236: 'CA',\n",
              " 237: 'CA',\n",
              " 238: 'CA',\n",
              " 239: 'CA',\n",
              " 240: 'CA',\n",
              " 241: 'CA',\n",
              " 242: 'NM',\n",
              " 243: 'CA',\n",
              " 244: 'CA',\n",
              " 245: 'CA',\n",
              " 246: 'CA',\n",
              " 247: 'CA',\n",
              " 248: 'CA',\n",
              " 249: 'CA',\n",
              " 250: 'CA',\n",
              " 251: 'CA',\n",
              " 252: 'CA',\n",
              " 253: 'CA',\n",
              " 254: 'CA',\n",
              " 255: 'CA',\n",
              " 256: 'CA',\n",
              " 257: 'CA',\n",
              " 258: 'CA',\n",
              " 259: 'CA',\n",
              " 260: 'CA',\n",
              " 261: 'CA',\n",
              " 262: 'CA',\n",
              " 263: 'CA',\n",
              " 264: 'CA',\n",
              " 265: 'CA',\n",
              " 266: 'CA',\n",
              " 267: 'CA',\n",
              " 268: 'CA',\n",
              " 269: 'CA',\n",
              " 270: 'CA',\n",
              " 271: 'CA',\n",
              " 272: 'NV',\n",
              " 273: 'CA',\n",
              " 274: 'CA',\n",
              " 275: 'CA',\n",
              " 276: 'CA',\n",
              " 277: 'AZ',\n",
              " 278: 'CA',\n",
              " 279: 'CA',\n",
              " 280: 'CA',\n",
              " 281: 'CA',\n",
              " 282: 'CA',\n",
              " 283: 'CA',\n",
              " 284: 'CA',\n",
              " 285: 'CA',\n",
              " 286: 'CA',\n",
              " 287: 'CA',\n",
              " 288: 'CA',\n",
              " 289: 'CA',\n",
              " 290: 'CA',\n",
              " 291: 'CA',\n",
              " 292: 'CA',\n",
              " 293: 'CA',\n",
              " 294: 'CA',\n",
              " 295: 'CA',\n",
              " 296: 'CA',\n",
              " 297: 'NV',\n",
              " 298: 'CA',\n",
              " 299: 'CA',\n",
              " 300: 'CA',\n",
              " 301: 'CA',\n",
              " 302: 'CA',\n",
              " 303: 'CA',\n",
              " 304: 'CA',\n",
              " 305: 'CA',\n",
              " 306: 'CA',\n",
              " 307: 'CA',\n",
              " 308: 'CA',\n",
              " 309: 'CA',\n",
              " 310: 'CA',\n",
              " 311: 'CA',\n",
              " 312: 'CA',\n",
              " 313: 'CA',\n",
              " 314: 'CA',\n",
              " 315: 'CA',\n",
              " 316: 'CA',\n",
              " 317: 'CA',\n",
              " 318: 'CA',\n",
              " 319: 'CA',\n",
              " 320: 'AZ',\n",
              " 321: 'CA',\n",
              " 322: 'CA',\n",
              " 323: 'CA',\n",
              " 324: 'CA',\n",
              " 325: 'CA',\n",
              " 326: 'CA',\n",
              " 327: 'CA',\n",
              " 328: 'CA',\n",
              " 329: 'CA',\n",
              " 330: 'CA',\n",
              " 331: 'CA',\n",
              " 332: 'CA',\n",
              " 333: 'CA',\n",
              " 334: 'CA',\n",
              " 335: 'CA',\n",
              " 336: 'CA',\n",
              " 337: 'CA',\n",
              " 338: 'CA',\n",
              " 339: 'CA',\n",
              " 340: 'CA',\n",
              " 341: 'CA',\n",
              " 342: 'CA',\n",
              " 343: 'CA',\n",
              " 344: 'CA',\n",
              " 345: 'CA',\n",
              " 346: 'CA',\n",
              " 347: 'CA',\n",
              " 348: 'CA',\n",
              " 349: 'AZ',\n",
              " 350: 'OR',\n",
              " 351: 'CA',\n",
              " 352: 'CA',\n",
              " 353: 'CA',\n",
              " 354: 'CA',\n",
              " 355: 'CA',\n",
              " 356: 'CA',\n",
              " 357: 'AZ',\n",
              " 358: 'CA',\n",
              " 359: 'CA',\n",
              " 360: 'CA',\n",
              " 361: 'CA',\n",
              " 362: 'CA',\n",
              " 363: 'CA',\n",
              " 364: 'CA',\n",
              " 365: 'CA',\n",
              " 366: 'CA',\n",
              " 367: 'CA',\n",
              " 368: 'CA',\n",
              " 369: 'CA',\n",
              " 370: 'CA',\n",
              " 371: 'CA',\n",
              " 372: 'CA',\n",
              " 373: 'CA',\n",
              " 374: 'CA',\n",
              " 375: 'CA',\n",
              " 376: 'CA',\n",
              " 377: 'CA',\n",
              " 378: 'CA',\n",
              " 379: 'CA',\n",
              " 380: 'CA',\n",
              " 381: 'CA',\n",
              " 382: 'CA',\n",
              " 383: 'CA',\n",
              " 384: 'CA',\n",
              " 385: 'CA',\n",
              " 386: 'CA',\n",
              " 387: 'CA',\n",
              " 388: 'CA',\n",
              " 389: 'CA',\n",
              " 390: 'CA',\n",
              " 391: 'CA',\n",
              " 392: 'CA',\n",
              " 393: 'CA',\n",
              " 394: 'CA',\n",
              " 395: 'CA',\n",
              " 396: 'CA',\n",
              " 397: 'CA',\n",
              " 398: 'CA',\n",
              " 399: 'CA',\n",
              " 400: 'CA',\n",
              " 401: 'CA',\n",
              " 402: 'CA',\n",
              " 403: 'CA',\n",
              " 404: 'CA',\n",
              " 405: 'CA',\n",
              " 406: 'CA',\n",
              " 407: 'CA',\n",
              " 408: 'CA',\n",
              " 409: 'CA',\n",
              " 410: 'CA',\n",
              " 411: 'CA',\n",
              " 412: 'CA',\n",
              " 413: 'CA',\n",
              " 414: 'CA',\n",
              " 415: 'CA',\n",
              " 416: 'CA',\n",
              " 417: 'CA',\n",
              " 418: 'CA',\n",
              " 419: 'CA',\n",
              " 420: 'CA',\n",
              " 421: 'CA',\n",
              " 422: 'CA',\n",
              " 423: 'CA',\n",
              " 424: 'CA',\n",
              " 425: 'CA',\n",
              " 426: 'CA',\n",
              " 427: 'CA',\n",
              " 428: 'CA',\n",
              " 429: 'CA',\n",
              " 430: 'CA',\n",
              " 431: 'CA',\n",
              " 432: 'NM',\n",
              " 433: 'CA',\n",
              " 434: 'CA',\n",
              " 435: 'CA',\n",
              " 436: 'CA',\n",
              " 437: 'CA',\n",
              " 438: 'CA',\n",
              " 439: 'CA',\n",
              " 440: 'CA',\n",
              " 441: 'CO',\n",
              " 442: 'CA',\n",
              " 443: 'CA',\n",
              " 444: 'CA',\n",
              " 445: 'CA',\n",
              " 446: 'CA',\n",
              " 447: 'CA',\n",
              " 448: 'CA',\n",
              " 449: 'CA',\n",
              " 450: 'CA',\n",
              " 451: 'CA',\n",
              " 452: 'CA',\n",
              " 453: 'CA',\n",
              " 454: 'CA',\n",
              " 455: 'CA',\n",
              " 456: 'CA',\n",
              " 457: 'CA',\n",
              " 458: 'CA',\n",
              " 459: 'CA',\n",
              " 460: 'CA',\n",
              " 461: 'CA',\n",
              " 462: 'CA',\n",
              " 463: 'CA',\n",
              " 464: 'CA',\n",
              " 465: 'CA',\n",
              " 466: 'CA',\n",
              " 467: 'CA',\n",
              " 468: 'NV',\n",
              " 469: 'CA',\n",
              " 470: 'CA',\n",
              " 471: 'CA',\n",
              " 472: 'CA',\n",
              " 473: 'CA',\n",
              " 474: 'CA',\n",
              " 475: 'NM',\n",
              " 476: 'CA',\n",
              " 477: 'CA',\n",
              " 478: 'CA',\n",
              " 479: 'CA',\n",
              " 480: 'CA',\n",
              " 481: 'CA',\n",
              " 482: 'FL',\n",
              " 483: 'CA',\n",
              " 484: 'CA',\n",
              " 485: 'CA',\n",
              " 486: 'CA',\n",
              " 487: 'CA',\n",
              " 488: 'CA',\n",
              " 489: 'CA',\n",
              " 490: 'CA',\n",
              " 491: 'CA',\n",
              " 492: 'CA',\n",
              " 493: 'CA',\n",
              " 494: 'CA',\n",
              " 495: 'CA',\n",
              " 496: 'CA',\n",
              " 497: 'CA',\n",
              " 498: 'CA',\n",
              " 499: 'UT',\n",
              " 500: 'CA',\n",
              " 501: 'CA',\n",
              " 502: 'CA',\n",
              " 503: 'CA',\n",
              " 504: 'CO',\n",
              " 505: 'CA',\n",
              " 506: 'CA',\n",
              " 507: 'CA',\n",
              " 508: 'CA',\n",
              " 509: 'CA',\n",
              " 510: 'CA',\n",
              " 511: 'CA',\n",
              " 512: 'CA',\n",
              " 513: 'CA',\n",
              " 514: 'CA',\n",
              " 515: 'CA',\n",
              " 516: 'CA',\n",
              " 517: 'UT',\n",
              " 518: 'CA',\n",
              " 519: 'CA',\n",
              " 520: 'CA',\n",
              " 521: 'CA',\n",
              " 522: 'CA',\n",
              " 523: 'CA',\n",
              " 524: 'CA',\n",
              " 525: 'CA',\n",
              " 526: 'CA',\n",
              " 527: 'CA',\n",
              " 528: 'CA',\n",
              " 529: 'CA',\n",
              " 530: 'CA',\n",
              " 531: 'CA',\n",
              " 532: 'FL',\n",
              " 533: 'CA',\n",
              " 534: 'CA',\n",
              " 535: 'CA',\n",
              " 536: 'CA',\n",
              " 537: 'CA',\n",
              " 538: 'CA',\n",
              " 539: 'CA',\n",
              " 540: 'CA',\n",
              " 541: 'CA',\n",
              " 542: 'CA',\n",
              " 543: 'CA',\n",
              " 544: 'CA',\n",
              " 545: 'CA',\n",
              " 546: 'CA',\n",
              " 547: 'CA',\n",
              " 548: 'CA',\n",
              " 549: 'CA',\n",
              " 550: 'CA',\n",
              " 551: 'NV',\n",
              " 552: 'CA',\n",
              " 553: 'NV',\n",
              " 554: 'CA',\n",
              " 555: 'CA',\n",
              " 556: 'CA',\n",
              " 557: 'CA',\n",
              " 558: 'CA',\n",
              " 559: 'CA',\n",
              " 560: 'CA',\n",
              " 561: 'CA',\n",
              " 562: 'CA',\n",
              " 563: 'CA',\n",
              " 564: 'CA',\n",
              " 565: 'MA',\n",
              " 566: 'CA',\n",
              " 567: 'CA',\n",
              " 568: 'CA',\n",
              " 569: 'CA',\n",
              " 570: 'CA',\n",
              " 571: 'CA',\n",
              " 572: 'CA',\n",
              " 573: 'CA',\n",
              " 574: 'CA',\n",
              " 575: 'CA',\n",
              " 576: 'CA',\n",
              " 577: 'CA',\n",
              " 578: 'IN',\n",
              " 579: 'CA',\n",
              " 580: 'CA',\n",
              " 581: 'CA',\n",
              " 582: 'CA',\n",
              " 583: 'CA',\n",
              " 584: 'CA',\n",
              " 585: 'CA',\n",
              " 586: 'CA',\n",
              " 587: 'CA',\n",
              " 588: 'CA',\n",
              " 589: 'CA',\n",
              " 590: 'CA',\n",
              " 591: 'CA',\n",
              " 592: 'CA',\n",
              " 593: 'CA',\n",
              " 594: 'CA',\n",
              " 595: 'CA',\n",
              " 596: 'CA',\n",
              " 597: 'CA',\n",
              " 598: 'CA',\n",
              " 599: 'CA',\n",
              " 600: 'TX',\n",
              " 601: 'CA'}"
            ]
          },
          "metadata": {},
          "execution_count": 471
        }
      ]
    },
    {
      "cell_type": "code",
      "source": [
        "lf = pd.DataFrame([[key, lista[key]] for key in lista.keys()], columns=['id', 'state'])"
      ],
      "metadata": {
        "id": "18lllfiSPHdj"
      },
      "execution_count": null,
      "outputs": []
    },
    {
      "cell_type": "code",
      "source": [
        "lf"
      ],
      "metadata": {
        "colab": {
          "base_uri": "https://localhost:8080/",
          "height": 423
        },
        "id": "k3QRxHP-Phpt",
        "outputId": "96a444f2-9cec-45eb-b0a7-a4f649663c29"
      },
      "execution_count": null,
      "outputs": [
        {
          "output_type": "execute_result",
          "data": {
            "text/plain": [
              "      id state\n",
              "0      0    CA\n",
              "1      1    CA\n",
              "2      2    CA\n",
              "3      3    CA\n",
              "4      4    CA\n",
              "..   ...   ...\n",
              "597  597    CA\n",
              "598  598    CA\n",
              "599  599    CA\n",
              "600  600    TX\n",
              "601  601    CA\n",
              "\n",
              "[602 rows x 2 columns]"
            ],
            "text/html": [
              "\n",
              "  <div id=\"df-e2df47e5-b75a-4a12-9d17-0dc07d7c5010\">\n",
              "    <div class=\"colab-df-container\">\n",
              "      <div>\n",
              "<style scoped>\n",
              "    .dataframe tbody tr th:only-of-type {\n",
              "        vertical-align: middle;\n",
              "    }\n",
              "\n",
              "    .dataframe tbody tr th {\n",
              "        vertical-align: top;\n",
              "    }\n",
              "\n",
              "    .dataframe thead th {\n",
              "        text-align: right;\n",
              "    }\n",
              "</style>\n",
              "<table border=\"1\" class=\"dataframe\">\n",
              "  <thead>\n",
              "    <tr style=\"text-align: right;\">\n",
              "      <th></th>\n",
              "      <th>id</th>\n",
              "      <th>state</th>\n",
              "    </tr>\n",
              "  </thead>\n",
              "  <tbody>\n",
              "    <tr>\n",
              "      <th>0</th>\n",
              "      <td>0</td>\n",
              "      <td>CA</td>\n",
              "    </tr>\n",
              "    <tr>\n",
              "      <th>1</th>\n",
              "      <td>1</td>\n",
              "      <td>CA</td>\n",
              "    </tr>\n",
              "    <tr>\n",
              "      <th>2</th>\n",
              "      <td>2</td>\n",
              "      <td>CA</td>\n",
              "    </tr>\n",
              "    <tr>\n",
              "      <th>3</th>\n",
              "      <td>3</td>\n",
              "      <td>CA</td>\n",
              "    </tr>\n",
              "    <tr>\n",
              "      <th>4</th>\n",
              "      <td>4</td>\n",
              "      <td>CA</td>\n",
              "    </tr>\n",
              "    <tr>\n",
              "      <th>...</th>\n",
              "      <td>...</td>\n",
              "      <td>...</td>\n",
              "    </tr>\n",
              "    <tr>\n",
              "      <th>597</th>\n",
              "      <td>597</td>\n",
              "      <td>CA</td>\n",
              "    </tr>\n",
              "    <tr>\n",
              "      <th>598</th>\n",
              "      <td>598</td>\n",
              "      <td>CA</td>\n",
              "    </tr>\n",
              "    <tr>\n",
              "      <th>599</th>\n",
              "      <td>599</td>\n",
              "      <td>CA</td>\n",
              "    </tr>\n",
              "    <tr>\n",
              "      <th>600</th>\n",
              "      <td>600</td>\n",
              "      <td>TX</td>\n",
              "    </tr>\n",
              "    <tr>\n",
              "      <th>601</th>\n",
              "      <td>601</td>\n",
              "      <td>CA</td>\n",
              "    </tr>\n",
              "  </tbody>\n",
              "</table>\n",
              "<p>602 rows × 2 columns</p>\n",
              "</div>\n",
              "      <button class=\"colab-df-convert\" onclick=\"convertToInteractive('df-e2df47e5-b75a-4a12-9d17-0dc07d7c5010')\"\n",
              "              title=\"Convert this dataframe to an interactive table.\"\n",
              "              style=\"display:none;\">\n",
              "        \n",
              "  <svg xmlns=\"http://www.w3.org/2000/svg\" height=\"24px\"viewBox=\"0 0 24 24\"\n",
              "       width=\"24px\">\n",
              "    <path d=\"M0 0h24v24H0V0z\" fill=\"none\"/>\n",
              "    <path d=\"M18.56 5.44l.94 2.06.94-2.06 2.06-.94-2.06-.94-.94-2.06-.94 2.06-2.06.94zm-11 1L8.5 8.5l.94-2.06 2.06-.94-2.06-.94L8.5 2.5l-.94 2.06-2.06.94zm10 10l.94 2.06.94-2.06 2.06-.94-2.06-.94-.94-2.06-.94 2.06-2.06.94z\"/><path d=\"M17.41 7.96l-1.37-1.37c-.4-.4-.92-.59-1.43-.59-.52 0-1.04.2-1.43.59L10.3 9.45l-7.72 7.72c-.78.78-.78 2.05 0 2.83L4 21.41c.39.39.9.59 1.41.59.51 0 1.02-.2 1.41-.59l7.78-7.78 2.81-2.81c.8-.78.8-2.07 0-2.86zM5.41 20L4 18.59l7.72-7.72 1.47 1.35L5.41 20z\"/>\n",
              "  </svg>\n",
              "      </button>\n",
              "      \n",
              "  <style>\n",
              "    .colab-df-container {\n",
              "      display:flex;\n",
              "      flex-wrap:wrap;\n",
              "      gap: 12px;\n",
              "    }\n",
              "\n",
              "    .colab-df-convert {\n",
              "      background-color: #E8F0FE;\n",
              "      border: none;\n",
              "      border-radius: 50%;\n",
              "      cursor: pointer;\n",
              "      display: none;\n",
              "      fill: #1967D2;\n",
              "      height: 32px;\n",
              "      padding: 0 0 0 0;\n",
              "      width: 32px;\n",
              "    }\n",
              "\n",
              "    .colab-df-convert:hover {\n",
              "      background-color: #E2EBFA;\n",
              "      box-shadow: 0px 1px 2px rgba(60, 64, 67, 0.3), 0px 1px 3px 1px rgba(60, 64, 67, 0.15);\n",
              "      fill: #174EA6;\n",
              "    }\n",
              "\n",
              "    [theme=dark] .colab-df-convert {\n",
              "      background-color: #3B4455;\n",
              "      fill: #D2E3FC;\n",
              "    }\n",
              "\n",
              "    [theme=dark] .colab-df-convert:hover {\n",
              "      background-color: #434B5C;\n",
              "      box-shadow: 0px 1px 3px 1px rgba(0, 0, 0, 0.15);\n",
              "      filter: drop-shadow(0px 1px 2px rgba(0, 0, 0, 0.3));\n",
              "      fill: #FFFFFF;\n",
              "    }\n",
              "  </style>\n",
              "\n",
              "      <script>\n",
              "        const buttonEl =\n",
              "          document.querySelector('#df-e2df47e5-b75a-4a12-9d17-0dc07d7c5010 button.colab-df-convert');\n",
              "        buttonEl.style.display =\n",
              "          google.colab.kernel.accessAllowed ? 'block' : 'none';\n",
              "\n",
              "        async function convertToInteractive(key) {\n",
              "          const element = document.querySelector('#df-e2df47e5-b75a-4a12-9d17-0dc07d7c5010');\n",
              "          const dataTable =\n",
              "            await google.colab.kernel.invokeFunction('convertToInteractive',\n",
              "                                                     [key], {});\n",
              "          if (!dataTable) return;\n",
              "\n",
              "          const docLinkHtml = 'Like what you see? Visit the ' +\n",
              "            '<a target=\"_blank\" href=https://colab.research.google.com/notebooks/data_table.ipynb>data table notebook</a>'\n",
              "            + ' to learn more about interactive tables.';\n",
              "          element.innerHTML = '';\n",
              "          dataTable['output_type'] = 'display_data';\n",
              "          await google.colab.output.renderOutput(dataTable, element);\n",
              "          const docLink = document.createElement('div');\n",
              "          docLink.innerHTML = docLinkHtml;\n",
              "          element.appendChild(docLink);\n",
              "        }\n",
              "      </script>\n",
              "    </div>\n",
              "  </div>\n",
              "  "
            ]
          },
          "metadata": {},
          "execution_count": 473
        }
      ]
    },
    {
      "cell_type": "code",
      "source": [
        "freq = lf.groupby('state').size() \n",
        "freq"
      ],
      "metadata": {
        "colab": {
          "base_uri": "https://localhost:8080/"
        },
        "id": "i0OPUiZpPoo8",
        "outputId": "6f8ac235-dd0c-4c08-c5ed-6406e84477c7"
      },
      "execution_count": null,
      "outputs": [
        {
          "output_type": "execute_result",
          "data": {
            "text/plain": [
              "state\n",
              "AZ      6\n",
              "CA    569\n",
              "CO      3\n",
              "FL      3\n",
              "ID      1\n",
              "IN      1\n",
              "MA      1\n",
              "NH      1\n",
              "NM      3\n",
              "NV      8\n",
              "OR      1\n",
              "TX      2\n",
              "UT      2\n",
              "WA      1\n",
              "dtype: int64"
            ]
          },
          "metadata": {},
          "execution_count": 501
        }
      ]
    },
    {
      "cell_type": "code",
      "source": [
        "state_cant = sum(1 for row in freq.groupby(['state']))"
      ],
      "metadata": {
        "id": "W13bg_d8Aenj"
      },
      "execution_count": null,
      "outputs": []
    },
    {
      "cell_type": "code",
      "source": [
        "state_cant"
      ],
      "metadata": {
        "colab": {
          "base_uri": "https://localhost:8080/"
        },
        "id": "HJorBqRcTBgk",
        "outputId": "7bedbb74-1225-49f9-f99b-08a7ada80545"
      },
      "execution_count": null,
      "outputs": [
        {
          "output_type": "execute_result",
          "data": {
            "text/plain": [
              "14"
            ]
          },
          "metadata": {},
          "execution_count": 506
        }
      ]
    },
    {
      "cell_type": "markdown",
      "metadata": {
        "id": "DC59SZYiMfNY"
      },
      "source": [
        "**Question 3** What is the state with most customers?"
      ]
    },
    {
      "cell_type": "code",
      "source": [
        "freq"
      ],
      "metadata": {
        "colab": {
          "base_uri": "https://localhost:8080/"
        },
        "id": "Ilrh7NCPCHRq",
        "outputId": "885647a0-b540-4d9b-f400-9ea84694056c"
      },
      "execution_count": null,
      "outputs": [
        {
          "output_type": "execute_result",
          "data": {
            "text/plain": [
              "state\n",
              "AZ      6\n",
              "CA    569\n",
              "CO      3\n",
              "FL      3\n",
              "ID      1\n",
              "IN      1\n",
              "MA      1\n",
              "NH      1\n",
              "NM      3\n",
              "NV      8\n",
              "OR      1\n",
              "TX      2\n",
              "UT      2\n",
              "WA      1\n",
              "dtype: int64"
            ]
          },
          "metadata": {},
          "execution_count": 507
        }
      ]
    },
    {
      "cell_type": "code",
      "execution_count": null,
      "metadata": {
        "id": "tfGU3w-OMhA9"
      },
      "outputs": [],
      "source": [
        "max_value = None\n",
        "max_idx = None\n",
        "# evaluate the contents of the file\n",
        "for i, num in enumerate(freq):\n",
        "    if (max_value is None or num > max_value):\n",
        "        max_value = num\n",
        "        max_state = i"
      ]
    },
    {
      "cell_type": "code",
      "source": [
        "print('Maximum value:', max_value, \"At index: \", max_state)"
      ],
      "metadata": {
        "colab": {
          "base_uri": "https://localhost:8080/"
        },
        "id": "6ztm2JrnCdXw",
        "outputId": "2cfd1533-bbd9-435a-db15-c2f2c164ae32"
      },
      "execution_count": null,
      "outputs": [
        {
          "output_type": "stream",
          "name": "stdout",
          "text": [
            "Maximum value: 569 At index:  1\n"
          ]
        }
      ]
    },
    {
      "cell_type": "code",
      "source": [
        "freq.index[max_state]"
      ],
      "metadata": {
        "colab": {
          "base_uri": "https://localhost:8080/",
          "height": 36
        },
        "id": "0wbKhmfmEpkl",
        "outputId": "cd68485d-feb1-4166-b772-80a976c553ea"
      },
      "execution_count": null,
      "outputs": [
        {
          "output_type": "execute_result",
          "data": {
            "text/plain": [
              "'CA'"
            ],
            "application/vnd.google.colaboratory.intrinsic+json": {
              "type": "string"
            }
          },
          "metadata": {},
          "execution_count": 512
        }
      ]
    },
    {
      "cell_type": "markdown",
      "metadata": {
        "id": "7mcM6cUAMhLB"
      },
      "source": [
        "**Question 4** What is the state with the least customers?"
      ]
    },
    {
      "cell_type": "code",
      "execution_count": null,
      "metadata": {
        "id": "8T0Ka2RqMi3P",
        "colab": {
          "base_uri": "https://localhost:8080/"
        },
        "outputId": "ea59b3a8-c843-40c1-97ea-9e8fe4af1fff"
      },
      "outputs": [
        {
          "output_type": "execute_result",
          "data": {
            "text/plain": [
              "state\n",
              "AZ      6\n",
              "CA    569\n",
              "CO      3\n",
              "FL      3\n",
              "ID      1\n",
              "IN      1\n",
              "MA      1\n",
              "NH      1\n",
              "NM      3\n",
              "NV      8\n",
              "OR      1\n",
              "TX      2\n",
              "UT      2\n",
              "WA      1\n",
              "dtype: int64"
            ]
          },
          "metadata": {},
          "execution_count": 537
        }
      ],
      "source": [
        "freq[:]"
      ]
    },
    {
      "cell_type": "code",
      "source": [
        "a=freq.min() "
      ],
      "metadata": {
        "id": "NVVudhYrVsC2"
      },
      "execution_count": null,
      "outputs": []
    },
    {
      "cell_type": "code",
      "source": [
        "a"
      ],
      "metadata": {
        "colab": {
          "base_uri": "https://localhost:8080/"
        },
        "id": "-K5__-R-V472",
        "outputId": "bbd181aa-beb4-4dcf-a9f4-e7577c31fddb"
      },
      "execution_count": null,
      "outputs": [
        {
          "output_type": "execute_result",
          "data": {
            "text/plain": [
              "1"
            ]
          },
          "metadata": {},
          "execution_count": 553
        }
      ]
    },
    {
      "cell_type": "code",
      "source": [
        "states_min=[]\n",
        "min_value = 9999\n",
        "min_idx = None\n",
        "# evaluate the contents of the file\n",
        "for i, num in enumerate(freq): \n",
        "    print(num)\n",
        "    if (num == a):\n",
        "        min_value = num\n",
        "        min_state = i\n",
        "        states_min.append(freq.index[min_state])"
      ],
      "metadata": {
        "colab": {
          "base_uri": "https://localhost:8080/"
        },
        "id": "Bn3KPYOi6ZcZ",
        "outputId": "f2b2fb6c-311b-4296-92d7-a6e0bf1b9d7a"
      },
      "execution_count": null,
      "outputs": [
        {
          "output_type": "stream",
          "name": "stdout",
          "text": [
            "6\n",
            "569\n",
            "3\n",
            "3\n",
            "1\n",
            "1\n",
            "1\n",
            "1\n",
            "3\n",
            "8\n",
            "1\n",
            "2\n",
            "2\n",
            "1\n"
          ]
        }
      ]
    },
    {
      "cell_type": "code",
      "source": [
        "states_min"
      ],
      "metadata": {
        "colab": {
          "base_uri": "https://localhost:8080/"
        },
        "id": "bplY_CnS6ZfU",
        "outputId": "876dd5b5-2552-46d9-b71a-2bea3b75ff11"
      },
      "execution_count": null,
      "outputs": [
        {
          "output_type": "execute_result",
          "data": {
            "text/plain": [
              "['ID', 'IN', 'MA', 'NH', 'OR', 'WA']"
            ]
          },
          "metadata": {},
          "execution_count": 562
        }
      ]
    },
    {
      "cell_type": "markdown",
      "metadata": {
        "id": "h6fIy7hXHF6A"
      },
      "source": [
        "**Question 5:** What is the most common last name?"
      ]
    },
    {
      "cell_type": "code",
      "source": [
        "ln=df['LastName'].value_counts()"
      ],
      "metadata": {
        "id": "3cW0IdCz5izi"
      },
      "execution_count": null,
      "outputs": []
    },
    {
      "cell_type": "code",
      "source": [
        "ln.head(10)"
      ],
      "metadata": {
        "colab": {
          "base_uri": "https://localhost:8080/"
        },
        "id": "ceIrgmwf6r5V",
        "outputId": "b9da8418-c4b4-4049-f90e-79db26638bf8"
      },
      "execution_count": null,
      "outputs": [
        {
          "output_type": "execute_result",
          "data": {
            "text/plain": [
              "Smith       8\n",
              "Zambrana    5\n",
              "Gomez       5\n",
              "Doggett     5\n",
              "Rocha       4\n",
              "Huynh       4\n",
              "Perez       4\n",
              "Mumford     4\n",
              "Johnson     4\n",
              "Guerra      4\n",
              "Name: LastName, dtype: int64"
            ]
          },
          "metadata": {},
          "execution_count": 564
        }
      ]
    },
    {
      "cell_type": "code",
      "source": [
        "max_value = None\n",
        "max_idx = None\n",
        "# evaluate the contents of the file\n",
        "for i, num in enumerate(ln):\n",
        "    if (max_value is None or num > max_value):\n",
        "        max_value = num\n",
        "        max_lastname = i\n"
      ],
      "metadata": {
        "id": "xRiq2Qny3Brs"
      },
      "execution_count": null,
      "outputs": []
    },
    {
      "cell_type": "code",
      "source": [
        "print(max_value)"
      ],
      "metadata": {
        "colab": {
          "base_uri": "https://localhost:8080/"
        },
        "id": "f_LVVWsk3MAV",
        "outputId": "e24b0fac-2f4e-4cfc-b88f-b7abe04eef01"
      },
      "execution_count": null,
      "outputs": [
        {
          "output_type": "stream",
          "name": "stdout",
          "text": [
            "8\n"
          ]
        }
      ]
    },
    {
      "cell_type": "code",
      "source": [
        "print(max_lastname)"
      ],
      "metadata": {
        "colab": {
          "base_uri": "https://localhost:8080/"
        },
        "id": "U9KKwXln3PPp",
        "outputId": "0b84fb0d-ea3d-4848-93e4-488fbf6ad28a"
      },
      "execution_count": null,
      "outputs": [
        {
          "output_type": "stream",
          "name": "stdout",
          "text": [
            "0\n"
          ]
        }
      ]
    },
    {
      "cell_type": "code",
      "source": [
        "ln.index[max_lastname]"
      ],
      "metadata": {
        "colab": {
          "base_uri": "https://localhost:8080/",
          "height": 36
        },
        "id": "TY1me8l_7DI7",
        "outputId": "66bdc4eb-b163-4bda-e6a2-5e19e5b78f3b"
      },
      "execution_count": null,
      "outputs": [
        {
          "output_type": "execute_result",
          "data": {
            "text/plain": [
              "'Smith'"
            ],
            "application/vnd.google.colaboratory.intrinsic+json": {
              "type": "string"
            }
          },
          "metadata": {},
          "execution_count": 569
        }
      ]
    },
    {
      "cell_type": "markdown",
      "metadata": {
        "id": "YPRma1t9NoFk"
      },
      "source": [
        "# Exercise 2: Processing Orders data (difficulty high)\n",
        "\n",
        "The second sample files contains orders placed by customers from the first file. Be careful, this file has many rows and you most likely should not print the contents of the whole file. \n",
        "\n",
        "The file contains the following columns: CustomerID, OrderID, Date, OrderTotal, ProductName, Price\n",
        "\n",
        "![Data sample](https://raw.githubusercontent.com/anyoneai/notebooks/main/customers_and_orders/images/orders.png)\n",
        "\n",
        "*Hint:* We advise you to take a look at the data before you start.\n",
        "**if you want to manually take a look at the data before you start, please see the content of the data [here](https://raw.githubusercontent.com/anyoneai/notebooks/main/customers_and_orders/data/orders.csv).\n",
        "\n",
        "*Hint*: There are many ways to do this exercise you can do your own, although here's some help. You can solve this exercise reading and parsing CSV files, structuring data into dictionaries, and using for loops to navigate the contents\n",
        "\n",
        "*Hint*: Also, the data is not clean and you will have to figure out how to deal with that data from the code, without having to modify the data source.\n",
        "\n",
        "\n",
        "\n",
        "**Question #1:** How many unique orders are in the orders.csv file?\n",
        "\n",
        "**Question #2:** What is the average number of items per order (rounded to two decimal places)?\n",
        "\n",
        "**Question #3:** What is the highest number of items per order?\n",
        "\n",
        "**Question #4:** What is the number of orders placed in October 2021?\n",
        "\n",
        "**Question #5:** Which customer spent the most amount of money in 2021?\n",
        "\n",
        "**Question #6:** Historically, what is the best month for sales?\n",
        "\n",
        "Once you get your answers, remember to go back to the course and introduce them in the multiple choice quiz"
      ]
    },
    {
      "cell_type": "code",
      "execution_count": 5,
      "metadata": {
        "id": "8ipJTrfs5QVM"
      },
      "outputs": [],
      "source": [
        "import pandas as pd\n",
        "import numpy as np"
      ]
    },
    {
      "cell_type": "code",
      "source": [
        "datafile = \"./sample_data/orders.csv\"\n",
        "if not exists(datafile):\n",
        "  raise SystemExit(\"You should run the first code cell and download the dataset files!\")\n",
        "\n",
        "# customers file is in the sample_data folder and can be opened.\n",
        "# Using csv reader is one way of dealing with the file \n",
        "# but it's up to you how you want to proceed\n",
        "with open(datafile, 'r') as fl:\n",
        "  csvreader = csv.reader(fl, delimiter=',')\n",
        "\n",
        "  # loop through the rows and count etc. THE REST IS UP TO YOU!\n",
        "  row_count = sum(1 for row in csvreader)\n",
        "  print(row_count)\n",
        "print(\"All done!\")"
      ],
      "metadata": {
        "colab": {
          "base_uri": "https://localhost:8080/"
        },
        "id": "S1x8y2xQdj8O",
        "outputId": "36b59ed2-4957-48a7-8de9-8a888fc65773"
      },
      "execution_count": 11,
      "outputs": [
        {
          "output_type": "stream",
          "name": "stdout",
          "text": [
            "29295\n",
            "All done!\n"
          ]
        }
      ]
    },
    {
      "cell_type": "code",
      "source": [
        "df= pd.read_csv(datafile)"
      ],
      "metadata": {
        "id": "ek4U5hJ2eYIy"
      },
      "execution_count": 12,
      "outputs": []
    },
    {
      "cell_type": "code",
      "source": [
        "df"
      ],
      "metadata": {
        "colab": {
          "base_uri": "https://localhost:8080/",
          "height": 424
        },
        "id": "ntBJSiD3ei5R",
        "outputId": "6458710f-910a-4d67-e374-fe1fcb40ee31"
      },
      "execution_count": 13,
      "outputs": [
        {
          "output_type": "execute_result",
          "data": {
            "text/plain": [
              "       CustomerID  OrderID                     Date  OrderTotal  ProductName  \\\n",
              "0            8091  7742581  2021-07-26 14:40:10.783        95.0          Z03   \n",
              "1          902139  7742778  2021-08-08 05:01:21.120        60.0     0844 A/C   \n",
              "2         2300266  7742593  2021-07-27 11:00:16.020       185.0          M07   \n",
              "3         2300266  7742593  2021-07-27 11:00:16.020       185.0          M09   \n",
              "4         5173013  7742609  2021-07-28 14:26:13.930       165.0         0324   \n",
              "...           ...      ...                      ...         ...          ...   \n",
              "29289     5415451  7791815  2022-02-07 14:37:30.567         0.0  Circle #041   \n",
              "29290     5415483  7791820  2022-02-07 15:55:55.260       132.0         HH33   \n",
              "29291     5415485  7791822  2022-02-07 16:23:05.940       132.0         3568   \n",
              "29292     4300695  7791824  2022-02-07 16:55:33.343       157.0         0414   \n",
              "29293     5415503  7791848  2022-02-09 10:36:56.553       132.0         PP22   \n",
              "\n",
              "       Price  \n",
              "0       90.0  \n",
              "1       60.0  \n",
              "2       90.0  \n",
              "3       90.0  \n",
              "4      160.0  \n",
              "...      ...  \n",
              "29289    0.0  \n",
              "29290  125.0  \n",
              "29291  125.0  \n",
              "29292  150.0  \n",
              "29293  125.0  \n",
              "\n",
              "[29294 rows x 6 columns]"
            ],
            "text/html": [
              "\n",
              "  <div id=\"df-826a48f9-fc6a-4e63-bb95-020e696c2fff\">\n",
              "    <div class=\"colab-df-container\">\n",
              "      <div>\n",
              "<style scoped>\n",
              "    .dataframe tbody tr th:only-of-type {\n",
              "        vertical-align: middle;\n",
              "    }\n",
              "\n",
              "    .dataframe tbody tr th {\n",
              "        vertical-align: top;\n",
              "    }\n",
              "\n",
              "    .dataframe thead th {\n",
              "        text-align: right;\n",
              "    }\n",
              "</style>\n",
              "<table border=\"1\" class=\"dataframe\">\n",
              "  <thead>\n",
              "    <tr style=\"text-align: right;\">\n",
              "      <th></th>\n",
              "      <th>CustomerID</th>\n",
              "      <th>OrderID</th>\n",
              "      <th>Date</th>\n",
              "      <th>OrderTotal</th>\n",
              "      <th>ProductName</th>\n",
              "      <th>Price</th>\n",
              "    </tr>\n",
              "  </thead>\n",
              "  <tbody>\n",
              "    <tr>\n",
              "      <th>0</th>\n",
              "      <td>8091</td>\n",
              "      <td>7742581</td>\n",
              "      <td>2021-07-26 14:40:10.783</td>\n",
              "      <td>95.0</td>\n",
              "      <td>Z03</td>\n",
              "      <td>90.0</td>\n",
              "    </tr>\n",
              "    <tr>\n",
              "      <th>1</th>\n",
              "      <td>902139</td>\n",
              "      <td>7742778</td>\n",
              "      <td>2021-08-08 05:01:21.120</td>\n",
              "      <td>60.0</td>\n",
              "      <td>0844 A/C</td>\n",
              "      <td>60.0</td>\n",
              "    </tr>\n",
              "    <tr>\n",
              "      <th>2</th>\n",
              "      <td>2300266</td>\n",
              "      <td>7742593</td>\n",
              "      <td>2021-07-27 11:00:16.020</td>\n",
              "      <td>185.0</td>\n",
              "      <td>M07</td>\n",
              "      <td>90.0</td>\n",
              "    </tr>\n",
              "    <tr>\n",
              "      <th>3</th>\n",
              "      <td>2300266</td>\n",
              "      <td>7742593</td>\n",
              "      <td>2021-07-27 11:00:16.020</td>\n",
              "      <td>185.0</td>\n",
              "      <td>M09</td>\n",
              "      <td>90.0</td>\n",
              "    </tr>\n",
              "    <tr>\n",
              "      <th>4</th>\n",
              "      <td>5173013</td>\n",
              "      <td>7742609</td>\n",
              "      <td>2021-07-28 14:26:13.930</td>\n",
              "      <td>165.0</td>\n",
              "      <td>0324</td>\n",
              "      <td>160.0</td>\n",
              "    </tr>\n",
              "    <tr>\n",
              "      <th>...</th>\n",
              "      <td>...</td>\n",
              "      <td>...</td>\n",
              "      <td>...</td>\n",
              "      <td>...</td>\n",
              "      <td>...</td>\n",
              "      <td>...</td>\n",
              "    </tr>\n",
              "    <tr>\n",
              "      <th>29289</th>\n",
              "      <td>5415451</td>\n",
              "      <td>7791815</td>\n",
              "      <td>2022-02-07 14:37:30.567</td>\n",
              "      <td>0.0</td>\n",
              "      <td>Circle #041</td>\n",
              "      <td>0.0</td>\n",
              "    </tr>\n",
              "    <tr>\n",
              "      <th>29290</th>\n",
              "      <td>5415483</td>\n",
              "      <td>7791820</td>\n",
              "      <td>2022-02-07 15:55:55.260</td>\n",
              "      <td>132.0</td>\n",
              "      <td>HH33</td>\n",
              "      <td>125.0</td>\n",
              "    </tr>\n",
              "    <tr>\n",
              "      <th>29291</th>\n",
              "      <td>5415485</td>\n",
              "      <td>7791822</td>\n",
              "      <td>2022-02-07 16:23:05.940</td>\n",
              "      <td>132.0</td>\n",
              "      <td>3568</td>\n",
              "      <td>125.0</td>\n",
              "    </tr>\n",
              "    <tr>\n",
              "      <th>29292</th>\n",
              "      <td>4300695</td>\n",
              "      <td>7791824</td>\n",
              "      <td>2022-02-07 16:55:33.343</td>\n",
              "      <td>157.0</td>\n",
              "      <td>0414</td>\n",
              "      <td>150.0</td>\n",
              "    </tr>\n",
              "    <tr>\n",
              "      <th>29293</th>\n",
              "      <td>5415503</td>\n",
              "      <td>7791848</td>\n",
              "      <td>2022-02-09 10:36:56.553</td>\n",
              "      <td>132.0</td>\n",
              "      <td>PP22</td>\n",
              "      <td>125.0</td>\n",
              "    </tr>\n",
              "  </tbody>\n",
              "</table>\n",
              "<p>29294 rows × 6 columns</p>\n",
              "</div>\n",
              "      <button class=\"colab-df-convert\" onclick=\"convertToInteractive('df-826a48f9-fc6a-4e63-bb95-020e696c2fff')\"\n",
              "              title=\"Convert this dataframe to an interactive table.\"\n",
              "              style=\"display:none;\">\n",
              "        \n",
              "  <svg xmlns=\"http://www.w3.org/2000/svg\" height=\"24px\"viewBox=\"0 0 24 24\"\n",
              "       width=\"24px\">\n",
              "    <path d=\"M0 0h24v24H0V0z\" fill=\"none\"/>\n",
              "    <path d=\"M18.56 5.44l.94 2.06.94-2.06 2.06-.94-2.06-.94-.94-2.06-.94 2.06-2.06.94zm-11 1L8.5 8.5l.94-2.06 2.06-.94-2.06-.94L8.5 2.5l-.94 2.06-2.06.94zm10 10l.94 2.06.94-2.06 2.06-.94-2.06-.94-.94-2.06-.94 2.06-2.06.94z\"/><path d=\"M17.41 7.96l-1.37-1.37c-.4-.4-.92-.59-1.43-.59-.52 0-1.04.2-1.43.59L10.3 9.45l-7.72 7.72c-.78.78-.78 2.05 0 2.83L4 21.41c.39.39.9.59 1.41.59.51 0 1.02-.2 1.41-.59l7.78-7.78 2.81-2.81c.8-.78.8-2.07 0-2.86zM5.41 20L4 18.59l7.72-7.72 1.47 1.35L5.41 20z\"/>\n",
              "  </svg>\n",
              "      </button>\n",
              "      \n",
              "  <style>\n",
              "    .colab-df-container {\n",
              "      display:flex;\n",
              "      flex-wrap:wrap;\n",
              "      gap: 12px;\n",
              "    }\n",
              "\n",
              "    .colab-df-convert {\n",
              "      background-color: #E8F0FE;\n",
              "      border: none;\n",
              "      border-radius: 50%;\n",
              "      cursor: pointer;\n",
              "      display: none;\n",
              "      fill: #1967D2;\n",
              "      height: 32px;\n",
              "      padding: 0 0 0 0;\n",
              "      width: 32px;\n",
              "    }\n",
              "\n",
              "    .colab-df-convert:hover {\n",
              "      background-color: #E2EBFA;\n",
              "      box-shadow: 0px 1px 2px rgba(60, 64, 67, 0.3), 0px 1px 3px 1px rgba(60, 64, 67, 0.15);\n",
              "      fill: #174EA6;\n",
              "    }\n",
              "\n",
              "    [theme=dark] .colab-df-convert {\n",
              "      background-color: #3B4455;\n",
              "      fill: #D2E3FC;\n",
              "    }\n",
              "\n",
              "    [theme=dark] .colab-df-convert:hover {\n",
              "      background-color: #434B5C;\n",
              "      box-shadow: 0px 1px 3px 1px rgba(0, 0, 0, 0.15);\n",
              "      filter: drop-shadow(0px 1px 2px rgba(0, 0, 0, 0.3));\n",
              "      fill: #FFFFFF;\n",
              "    }\n",
              "  </style>\n",
              "\n",
              "      <script>\n",
              "        const buttonEl =\n",
              "          document.querySelector('#df-826a48f9-fc6a-4e63-bb95-020e696c2fff button.colab-df-convert');\n",
              "        buttonEl.style.display =\n",
              "          google.colab.kernel.accessAllowed ? 'block' : 'none';\n",
              "\n",
              "        async function convertToInteractive(key) {\n",
              "          const element = document.querySelector('#df-826a48f9-fc6a-4e63-bb95-020e696c2fff');\n",
              "          const dataTable =\n",
              "            await google.colab.kernel.invokeFunction('convertToInteractive',\n",
              "                                                     [key], {});\n",
              "          if (!dataTable) return;\n",
              "\n",
              "          const docLinkHtml = 'Like what you see? Visit the ' +\n",
              "            '<a target=\"_blank\" href=https://colab.research.google.com/notebooks/data_table.ipynb>data table notebook</a>'\n",
              "            + ' to learn more about interactive tables.';\n",
              "          element.innerHTML = '';\n",
              "          dataTable['output_type'] = 'display_data';\n",
              "          await google.colab.output.renderOutput(dataTable, element);\n",
              "          const docLink = document.createElement('div');\n",
              "          docLink.innerHTML = docLinkHtml;\n",
              "          element.appendChild(docLink);\n",
              "        }\n",
              "      </script>\n",
              "    </div>\n",
              "  </div>\n",
              "  "
            ]
          },
          "metadata": {},
          "execution_count": 13
        }
      ]
    },
    {
      "cell_type": "code",
      "source": [
        "df['OrderID'].unique()"
      ],
      "metadata": {
        "id": "gDTTBLYsemC9",
        "colab": {
          "base_uri": "https://localhost:8080/"
        },
        "outputId": "3987c013-e13c-4543-93bb-791b7828d5f1"
      },
      "execution_count": 14,
      "outputs": [
        {
          "output_type": "execute_result",
          "data": {
            "text/plain": [
              "array([7742581, 7742778, 7742593, ..., 7791822, 7791824, 7791848])"
            ]
          },
          "metadata": {},
          "execution_count": 14
        }
      ]
    },
    {
      "cell_type": "code",
      "source": [
        ""
      ],
      "metadata": {
        "id": "FVeazSIwemGC"
      },
      "execution_count": 14,
      "outputs": []
    },
    {
      "cell_type": "code",
      "source": [
        "Question #1: How many unique orders are in the orders.csv file?\n",
        "\n",
        "Question #2: What is the average number of items per order (rounded to two decimal places)?\n",
        "\n",
        "Question #3: What is the highest number of items per order?\n",
        "\n",
        "Question #4: What is the number of orders placed in October 2021?\n",
        "\n",
        "Question #5: Which customer spent the most amount of money in 2021?\n",
        "\n",
        "Question #6: Historically, what is the best month for sales?"
      ],
      "metadata": {
        "id": "T-lggOmFemMM"
      },
      "execution_count": null,
      "outputs": []
    },
    {
      "cell_type": "code",
      "source": [
        ""
      ],
      "metadata": {
        "id": "uLJQh4p6emPI"
      },
      "execution_count": null,
      "outputs": []
    },
    {
      "cell_type": "markdown",
      "metadata": {
        "id": "ie0JW4FAk6Os"
      },
      "source": [
        "# Finished!\n",
        "\n",
        "Hope this was not too difficult and slicing and dicing the datasets was some fun. Now head on back to the course and provide the answers to the questions from this exercise."
      ]
    }
  ],
  "metadata": {
    "colab": {
      "collapsed_sections": [],
      "name": "customers_and_orders.ipynb",
      "provenance": [],
      "toc_visible": true,
      "include_colab_link": true
    },
    "kernelspec": {
      "display_name": "Python 3 (ipykernel)",
      "language": "python",
      "name": "python3"
    },
    "language_info": {
      "codemirror_mode": {
        "name": "ipython",
        "version": 3
      },
      "file_extension": ".py",
      "mimetype": "text/x-python",
      "name": "python",
      "nbconvert_exporter": "python",
      "pygments_lexer": "ipython3",
      "version": "3.9.9"
    }
  },
  "nbformat": 4,
  "nbformat_minor": 0
}